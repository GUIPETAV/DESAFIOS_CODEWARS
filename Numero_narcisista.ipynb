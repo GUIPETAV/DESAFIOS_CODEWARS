{
  "nbformat": 4,
  "nbformat_minor": 0,
  "metadata": {
    "colab": {
      "name": "Numero_narcisista.ipynb",
      "provenance": [],
      "collapsed_sections": [],
      "authorship_tag": "ABX9TyN/yH4IILKKtfLNNVsCQnOk",
      "include_colab_link": true
    },
    "kernelspec": {
      "name": "python3",
      "display_name": "Python 3"
    },
    "language_info": {
      "name": "python"
    }
  },
  "cells": [
    {
      "cell_type": "markdown",
      "metadata": {
        "id": "view-in-github",
        "colab_type": "text"
      },
      "source": [
        "<a href=\"https://colab.research.google.com/github/GUIPETAV/DESAFIOS_CODEWARS/blob/main/Numero_narcisista.ipynb\" target=\"_parent\"><img src=\"https://colab.research.google.com/assets/colab-badge.svg\" alt=\"Open In Colab\"/></a>"
      ]
    },
    {
      "cell_type": "markdown",
      "source": [
        "###  Algoritimo para checar números narcisistas \n",
        "\n",
        "definição: números narcisistas ou número de Armstrong (plus perfect  digital invariant (PPDI))\n",
        "\n",
        "Um número é considerado narcisista quando ele a codição :\n",
        "\n",
        "153 =  1³+5³+3³ (1+125+27)\n"
      ],
      "metadata": {
        "id": "ZW_LtmPB_kKX"
      }
    },
    {
      "cell_type": "code",
      "source": [
        "import math\n",
        "\n",
        "\n",
        "# Inserir o número a ser avaliado \n",
        "\n",
        "n1 = str(input('Insira o número:')) \n",
        "\n",
        "\n",
        "\n",
        "# Conta o número de caracteres para estabelecer o valor do expoente após transformar a informação em uma string\n",
        "\n",
        "n2 = len(n1)\n",
        "\n",
        "# Faz a exponenciação do caracter indexado  convertendo  para números inteiros , pois a função len é exclusiva de strings\n",
        "\n",
        "n3 = math.pow(int(n1[0]),int(n2))\n",
        "\n",
        "n4 = math.pow(int(n1[1]),int(n2))\n",
        "\n",
        "n5 = math.pow(int(n1[2]),int(n2))\n",
        "\n",
        "n6 = n3 + n4 + n5\n",
        "\n",
        "if n6 == int(n1):\n",
        "    print ('True', n1, int(n6))\n",
        "    \n",
        "\n",
        "if n6 != int(n1):\n",
        "    print ('False',n1,int(n6))"
      ],
      "metadata": {
        "colab": {
          "base_uri": "https://localhost:8080/"
        },
        "id": "9CQCFYI0_n0k",
        "outputId": "7f1adf4e-9079-4831-8398-159f54f5f933"
      },
      "execution_count": 2,
      "outputs": [
        {
          "output_type": "stream",
          "name": "stdout",
          "text": [
            "Insira o número:153\n",
            "True 153 153\n"
          ]
        }
      ]
    }
  ]
}